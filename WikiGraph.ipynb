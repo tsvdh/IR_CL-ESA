{
  "nbformat": 4,
  "nbformat_minor": 0,
  "metadata": {
    "colab": {
      "provenance": [],
      "machine_shape": "hm"
    },
    "kernelspec": {
      "name": "python3",
      "display_name": "Python 3"
    },
    "language_info": {
      "name": "python"
    }
  },
  "cells": [
    {
      "cell_type": "code",
      "source": [
        "from google.colab import drive\n",
        "drive.mount('/content/drive', force_remount=True)\n",
        "dataset_path = '/content/drive/My Drive/IR Proposal/WikiLinkGraphs'"
      ],
      "metadata": {
        "colab": {
          "base_uri": "https://localhost:8080/"
        },
        "id": "QQm81ByWfA2N",
        "outputId": "bff99929-7905-468a-d1a1-53005ad2db93"
      },
      "execution_count": 1,
      "outputs": [
        {
          "output_type": "stream",
          "name": "stdout",
          "text": [
            "Mounted at /content/drive\n"
          ]
        }
      ]
    },
    {
      "cell_type": "markdown",
      "source": [
        "#Downloading WikiLinkGraphs Dataset"
      ],
      "metadata": {
        "id": "Oq8o-7V0iiO-"
      }
    },
    {
      "cell_type": "code",
      "source": [
        "# Define paths and languages to download\n",
        "languages = ['de', 'en', 'es', 'fr', 'it', 'nl', 'pl', 'ru', 'sv']\n",
        "suffix = 'wiki.wikilink_graph.2018-03-01.csv.gz' # 2018 for data from 2018, 2010 dito\n",
        "download = '?download=1'"
      ],
      "metadata": {
        "id": "eYWMC8f5iqPP"
      },
      "execution_count": 39,
      "outputs": []
    },
    {
      "cell_type": "code",
      "source": [
        "# Download zipped data\n",
        "for lang in languages: # Make sure correct year is specified in the below link\n",
        "  !wget -P '/content/drive/My Drive/IR Proposal/WikiLinkGraphs' https://zenodo.org/records/2539424/files/{lang}wiki.wikilink_graph.2010-03-01.csv.gz?download=1\n"
      ],
      "metadata": {
        "colab": {
          "base_uri": "https://localhost:8080/"
        },
        "id": "spMPynLl7Kb_",
        "outputId": "c1ab70f0-7ac4-4216-c5b5-e87b78d1fc1e"
      },
      "execution_count": 3,
      "outputs": [
        {
          "output_type": "stream",
          "name": "stdout",
          "text": [
            "--2024-04-03 07:30:37--  https://zenodo.org/records/2539424/files/dewiki.wikilink_graph.2010-03-01.csv.gz?download=1\n",
            "Resolving zenodo.org (zenodo.org)... 188.184.98.238, 188.185.79.172, 188.184.103.159, ...\n",
            "Connecting to zenodo.org (zenodo.org)|188.184.98.238|:443... connected.\n",
            "HTTP request sent, awaiting response... 200 OK\n",
            "Length: 322664409 (308M) [text/plain]\n",
            "Saving to: ‘/content/drive/My Drive/IR Proposal/WikiLinkGraphs/dewiki.wikilink_graph.2010-03-01.csv.gz?download=1’\n",
            "\n",
            "dewiki.wikilink_gra 100%[===================>] 307.72M  22.7MB/s    in 15s     \n",
            "\n",
            "2024-04-03 07:30:52 (20.7 MB/s) - ‘/content/drive/My Drive/IR Proposal/WikiLinkGraphs/dewiki.wikilink_graph.2010-03-01.csv.gz?download=1’ saved [322664409/322664409]\n",
            "\n",
            "--2024-04-03 07:30:52--  https://zenodo.org/records/2539424/files/enwiki.wikilink_graph.2010-03-01.csv.gz?download=1\n",
            "Resolving zenodo.org (zenodo.org)... 188.184.103.159, 188.185.79.172, 188.184.98.238, ...\n",
            "Connecting to zenodo.org (zenodo.org)|188.184.103.159|:443... connected.\n",
            "HTTP request sent, awaiting response... 200 OK\n",
            "Length: 979640321 (934M) [text/plain]\n",
            "Saving to: ‘/content/drive/My Drive/IR Proposal/WikiLinkGraphs/enwiki.wikilink_graph.2010-03-01.csv.gz?download=1’\n",
            "\n",
            "enwiki.wikilink_gra 100%[===================>] 934.26M  22.4MB/s    in 44s     \n",
            "\n",
            "2024-04-03 07:31:38 (21.1 MB/s) - ‘/content/drive/My Drive/IR Proposal/WikiLinkGraphs/enwiki.wikilink_graph.2010-03-01.csv.gz?download=1’ saved [979640321/979640321]\n",
            "\n",
            "--2024-04-03 07:31:38--  https://zenodo.org/records/2539424/files/eswiki.wikilink_graph.2010-03-01.csv.gz?download=1\n",
            "Resolving zenodo.org (zenodo.org)... 188.184.103.159, 188.185.79.172, 188.184.98.238, ...\n",
            "Connecting to zenodo.org (zenodo.org)|188.184.103.159|:443... connected.\n",
            "HTTP request sent, awaiting response... 200 OK\n",
            "Length: 153883371 (147M) [text/plain]\n",
            "Saving to: ‘/content/drive/My Drive/IR Proposal/WikiLinkGraphs/eswiki.wikilink_graph.2010-03-01.csv.gz?download=1’\n",
            "\n",
            "eswiki.wikilink_gra 100%[===================>] 146.75M  20.1MB/s    in 8.3s    \n",
            "\n",
            "2024-04-03 07:31:47 (17.7 MB/s) - ‘/content/drive/My Drive/IR Proposal/WikiLinkGraphs/eswiki.wikilink_graph.2010-03-01.csv.gz?download=1’ saved [153883371/153883371]\n",
            "\n",
            "--2024-04-03 07:31:47--  https://zenodo.org/records/2539424/files/frwiki.wikilink_graph.2010-03-01.csv.gz?download=1\n",
            "Resolving zenodo.org (zenodo.org)... 188.184.103.159, 188.185.79.172, 188.184.98.238, ...\n",
            "Connecting to zenodo.org (zenodo.org)|188.184.103.159|:443... connected.\n",
            "HTTP request sent, awaiting response... 200 OK\n",
            "Length: 262093030 (250M) [text/plain]\n",
            "Saving to: ‘/content/drive/My Drive/IR Proposal/WikiLinkGraphs/frwiki.wikilink_graph.2010-03-01.csv.gz?download=1’\n",
            "\n",
            "frwiki.wikilink_gra 100%[===================>] 249.95M  21.7MB/s    in 16s     \n",
            "\n",
            "2024-04-03 07:32:04 (15.6 MB/s) - ‘/content/drive/My Drive/IR Proposal/WikiLinkGraphs/frwiki.wikilink_graph.2010-03-01.csv.gz?download=1’ saved [262093030/262093030]\n",
            "\n",
            "--2024-04-03 07:32:04--  https://zenodo.org/records/2539424/files/itwiki.wikilink_graph.2010-03-01.csv.gz?download=1\n",
            "Resolving zenodo.org (zenodo.org)... 188.184.98.238, 188.184.103.159, 188.185.79.172, ...\n",
            "Connecting to zenodo.org (zenodo.org)|188.184.98.238|:443... connected.\n",
            "HTTP request sent, awaiting response... 200 OK\n",
            "Length: 163480832 (156M) [text/plain]\n",
            "Saving to: ‘/content/drive/My Drive/IR Proposal/WikiLinkGraphs/itwiki.wikilink_graph.2010-03-01.csv.gz?download=1’\n",
            "\n",
            "itwiki.wikilink_gra 100%[===================>] 155.91M  21.2MB/s    in 8.4s    \n",
            "\n",
            "2024-04-03 07:32:13 (18.5 MB/s) - ‘/content/drive/My Drive/IR Proposal/WikiLinkGraphs/itwiki.wikilink_graph.2010-03-01.csv.gz?download=1’ saved [163480832/163480832]\n",
            "\n",
            "--2024-04-03 07:32:13--  https://zenodo.org/records/2539424/files/nlwiki.wikilink_graph.2010-03-01.csv.gz?download=1\n",
            "Resolving zenodo.org (zenodo.org)... 188.184.98.238, 188.184.103.159, 188.185.79.172, ...\n",
            "Connecting to zenodo.org (zenodo.org)|188.184.98.238|:443... connected.\n",
            "HTTP request sent, awaiting response... 200 OK\n",
            "Length: 108241544 (103M) [text/plain]\n",
            "Saving to: ‘/content/drive/My Drive/IR Proposal/WikiLinkGraphs/nlwiki.wikilink_graph.2010-03-01.csv.gz?download=1’\n",
            "\n",
            "nlwiki.wikilink_gra 100%[===================>] 103.23M  16.6MB/s    in 6.8s    \n",
            "\n",
            "2024-04-03 07:32:20 (15.2 MB/s) - ‘/content/drive/My Drive/IR Proposal/WikiLinkGraphs/nlwiki.wikilink_graph.2010-03-01.csv.gz?download=1’ saved [108241544/108241544]\n",
            "\n",
            "--2024-04-03 07:32:21--  https://zenodo.org/records/2539424/files/plwiki.wikilink_graph.2010-03-01.csv.gz?download=1\n",
            "Resolving zenodo.org (zenodo.org)... 188.184.98.238, 188.184.103.159, 188.185.79.172, ...\n",
            "Connecting to zenodo.org (zenodo.org)|188.184.98.238|:443... connected.\n",
            "HTTP request sent, awaiting response... 200 OK\n",
            "Length: 135136875 (129M) [text/plain]\n",
            "Saving to: ‘/content/drive/My Drive/IR Proposal/WikiLinkGraphs/plwiki.wikilink_graph.2010-03-01.csv.gz?download=1’\n",
            "\n",
            "plwiki.wikilink_gra 100%[===================>] 128.88M  21.5MB/s    in 7.1s    \n",
            "\n",
            "2024-04-03 07:32:28 (18.0 MB/s) - ‘/content/drive/My Drive/IR Proposal/WikiLinkGraphs/plwiki.wikilink_graph.2010-03-01.csv.gz?download=1’ saved [135136875/135136875]\n",
            "\n",
            "--2024-04-03 07:32:28--  https://zenodo.org/records/2539424/files/ruwiki.wikilink_graph.2010-03-01.csv.gz?download=1\n",
            "Resolving zenodo.org (zenodo.org)... 188.184.98.238, 188.184.103.159, 188.185.79.172, ...\n",
            "Connecting to zenodo.org (zenodo.org)|188.184.98.238|:443... connected.\n",
            "HTTP request sent, awaiting response... 200 OK\n",
            "Length: 133108148 (127M) [text/plain]\n",
            "Saving to: ‘/content/drive/My Drive/IR Proposal/WikiLinkGraphs/ruwiki.wikilink_graph.2010-03-01.csv.gz?download=1’\n",
            "\n",
            "ruwiki.wikilink_gra 100%[===================>] 126.94M  17.7MB/s    in 8.0s    \n",
            "\n",
            "2024-04-03 07:32:37 (15.9 MB/s) - ‘/content/drive/My Drive/IR Proposal/WikiLinkGraphs/ruwiki.wikilink_graph.2010-03-01.csv.gz?download=1’ saved [133108148/133108148]\n",
            "\n",
            "--2024-04-03 07:32:37--  https://zenodo.org/records/2539424/files/svwiki.wikilink_graph.2010-03-01.csv.gz?download=1\n",
            "Resolving zenodo.org (zenodo.org)... 188.184.103.159, 188.184.98.238, 188.185.79.172, ...\n",
            "Connecting to zenodo.org (zenodo.org)|188.184.103.159|:443... connected.\n",
            "HTTP request sent, awaiting response... 200 OK\n",
            "Length: 66758135 (64M) [text/plain]\n",
            "Saving to: ‘/content/drive/My Drive/IR Proposal/WikiLinkGraphs/svwiki.wikilink_graph.2010-03-01.csv.gz?download=1’\n",
            "\n",
            "svwiki.wikilink_gra 100%[===================>]  63.67M  12.6MB/s    in 9.4s    \n",
            "\n",
            "2024-04-03 07:32:48 (6.75 MB/s) - ‘/content/drive/My Drive/IR Proposal/WikiLinkGraphs/svwiki.wikilink_graph.2010-03-01.csv.gz?download=1’ saved [66758135/66758135]\n",
            "\n"
          ]
        }
      ]
    },
    {
      "cell_type": "code",
      "source": [
        "import os\n",
        "import gzip\n",
        "import shutil\n",
        "\n",
        "# Language snapshots 2018 or 2010\n",
        "for lang in languages:\n",
        "    lang_path = os.path.join(dataset_path, lang + suffix + download)\n",
        "    # Unzip file\n",
        "    output_file = lang_path[:-14]  # Remove the '.gz' extension\n",
        "    print(f'Unzipping {lang} to {output_file}...')\n",
        "    with gzip.open(lang_path, 'rb') as file_in:\n",
        "        with open(output_file, 'wb') as file_out:\n",
        "            shutil.copyfileobj(file_in, file_out)\n",
        "    print(f'Finished unzipping {lang}.')"
      ],
      "metadata": {
        "colab": {
          "base_uri": "https://localhost:8080/"
        },
        "id": "S8igAv13fFk3",
        "outputId": "f5190f05-4668-4d5b-fa02-811c78388e69"
      },
      "execution_count": 4,
      "outputs": [
        {
          "output_type": "stream",
          "name": "stdout",
          "text": [
            "Unzipping de to /content/drive/My Drive/IR Proposal/WikiLinkGraphs/dewiki.wikilink_graph.2010-03-01.csv...\n",
            "Finished unzipping de.\n",
            "Unzipping en to /content/drive/My Drive/IR Proposal/WikiLinkGraphs/enwiki.wikilink_graph.2010-03-01.csv...\n",
            "Finished unzipping en.\n",
            "Unzipping es to /content/drive/My Drive/IR Proposal/WikiLinkGraphs/eswiki.wikilink_graph.2010-03-01.csv...\n",
            "Finished unzipping es.\n",
            "Unzipping fr to /content/drive/My Drive/IR Proposal/WikiLinkGraphs/frwiki.wikilink_graph.2010-03-01.csv...\n",
            "Finished unzipping fr.\n",
            "Unzipping it to /content/drive/My Drive/IR Proposal/WikiLinkGraphs/itwiki.wikilink_graph.2010-03-01.csv...\n",
            "Finished unzipping it.\n",
            "Unzipping nl to /content/drive/My Drive/IR Proposal/WikiLinkGraphs/nlwiki.wikilink_graph.2010-03-01.csv...\n",
            "Finished unzipping nl.\n",
            "Unzipping pl to /content/drive/My Drive/IR Proposal/WikiLinkGraphs/plwiki.wikilink_graph.2010-03-01.csv...\n",
            "Finished unzipping pl.\n",
            "Unzipping ru to /content/drive/My Drive/IR Proposal/WikiLinkGraphs/ruwiki.wikilink_graph.2010-03-01.csv...\n",
            "Finished unzipping ru.\n",
            "Unzipping sv to /content/drive/My Drive/IR Proposal/WikiLinkGraphs/svwiki.wikilink_graph.2010-03-01.csv...\n",
            "Finished unzipping sv.\n"
          ]
        }
      ]
    },
    {
      "cell_type": "markdown",
      "source": [
        "# Exploring the Graph"
      ],
      "metadata": {
        "id": "Z5RkSu5rmN-1"
      }
    },
    {
      "cell_type": "code",
      "source": [
        "df = None\n",
        "G = None\n",
        "edgelist = None"
      ],
      "metadata": {
        "id": "g4LN-RzRyHtF"
      },
      "execution_count": 5,
      "outputs": []
    },
    {
      "cell_type": "code",
      "source": [
        "import networkx as nx\n",
        "import os\n",
        "import pandas as pd\n",
        "\n",
        "# Load the WikiLinkGraphs dataset\n",
        "languages = ['de', 'en', 'es', 'fr', 'it', 'nl', 'pl', 'ru', 'sv']\n",
        "# df = pd.read_csv(os.path.join(dataset_path, lang + suffix[:-3]), sep='\\t')\n",
        "# df = pd.read_csv(os.path.join(dataset_path, 'experiment.csv'), sep='\\t')"
      ],
      "metadata": {
        "id": "5dYLyFi8mBQb"
      },
      "execution_count": 7,
      "outputs": []
    },
    {
      "cell_type": "code",
      "source": [
        "df"
      ],
      "metadata": {
        "colab": {
          "base_uri": "https://localhost:8080/",
          "height": 424
        },
        "id": "X_T9T8I2q_5y",
        "outputId": "34593eb9-71cb-4ced-ab99-e2d2888f231e"
      },
      "execution_count": 6,
      "outputs": [
        {
          "output_type": "execute_result",
          "data": {
            "text/plain": [
              "           page_id_from             page_title_from  page_id_to  \\\n",
              "0                    10         AccessibleComputing      411964   \n",
              "1                    12                   Anarchism     5013592   \n",
              "2                    12                   Anarchism     2181459   \n",
              "3                    12                   Anarchism      839656   \n",
              "4                    12                   Anarchism     2731583   \n",
              "...                 ...                         ...         ...   \n",
              "163380002      56716274        Patriarch Visarion I    50787040   \n",
              "163380003      56716279                  Visarion I    50787040   \n",
              "163380004      56722248  Friction stir spot welding    56705430   \n",
              "163380005      56722248  Friction stir spot welding    30809609   \n",
              "163380006      56722248  Friction stir spot welding    30279981   \n",
              "\n",
              "                                page_title_to  \n",
              "0                      Computer accessibility  \n",
              "1                      6 February 1934 crisis  \n",
              "2                               Abstentionism  \n",
              "3                                 Adolf Brand  \n",
              "4                                Adolf Hitler  \n",
              "...                                       ...  \n",
              "163380002               Vissarion of Bulgaria  \n",
              "163380003               Vissarion of Bulgaria  \n",
              "163380004                    Cuvillier Verlag  \n",
              "163380005  International Institute of Welding  \n",
              "163380006                           Schmieden  \n",
              "\n",
              "[163380007 rows x 4 columns]"
            ],
            "text/html": [
              "\n",
              "  <div id=\"df-d54b8698-651c-4635-bf27-d692a083a33c\" class=\"colab-df-container\">\n",
              "    <div>\n",
              "<style scoped>\n",
              "    .dataframe tbody tr th:only-of-type {\n",
              "        vertical-align: middle;\n",
              "    }\n",
              "\n",
              "    .dataframe tbody tr th {\n",
              "        vertical-align: top;\n",
              "    }\n",
              "\n",
              "    .dataframe thead th {\n",
              "        text-align: right;\n",
              "    }\n",
              "</style>\n",
              "<table border=\"1\" class=\"dataframe\">\n",
              "  <thead>\n",
              "    <tr style=\"text-align: right;\">\n",
              "      <th></th>\n",
              "      <th>page_id_from</th>\n",
              "      <th>page_title_from</th>\n",
              "      <th>page_id_to</th>\n",
              "      <th>page_title_to</th>\n",
              "    </tr>\n",
              "  </thead>\n",
              "  <tbody>\n",
              "    <tr>\n",
              "      <th>0</th>\n",
              "      <td>10</td>\n",
              "      <td>AccessibleComputing</td>\n",
              "      <td>411964</td>\n",
              "      <td>Computer accessibility</td>\n",
              "    </tr>\n",
              "    <tr>\n",
              "      <th>1</th>\n",
              "      <td>12</td>\n",
              "      <td>Anarchism</td>\n",
              "      <td>5013592</td>\n",
              "      <td>6 February 1934 crisis</td>\n",
              "    </tr>\n",
              "    <tr>\n",
              "      <th>2</th>\n",
              "      <td>12</td>\n",
              "      <td>Anarchism</td>\n",
              "      <td>2181459</td>\n",
              "      <td>Abstentionism</td>\n",
              "    </tr>\n",
              "    <tr>\n",
              "      <th>3</th>\n",
              "      <td>12</td>\n",
              "      <td>Anarchism</td>\n",
              "      <td>839656</td>\n",
              "      <td>Adolf Brand</td>\n",
              "    </tr>\n",
              "    <tr>\n",
              "      <th>4</th>\n",
              "      <td>12</td>\n",
              "      <td>Anarchism</td>\n",
              "      <td>2731583</td>\n",
              "      <td>Adolf Hitler</td>\n",
              "    </tr>\n",
              "    <tr>\n",
              "      <th>...</th>\n",
              "      <td>...</td>\n",
              "      <td>...</td>\n",
              "      <td>...</td>\n",
              "      <td>...</td>\n",
              "    </tr>\n",
              "    <tr>\n",
              "      <th>163380002</th>\n",
              "      <td>56716274</td>\n",
              "      <td>Patriarch Visarion I</td>\n",
              "      <td>50787040</td>\n",
              "      <td>Vissarion of Bulgaria</td>\n",
              "    </tr>\n",
              "    <tr>\n",
              "      <th>163380003</th>\n",
              "      <td>56716279</td>\n",
              "      <td>Visarion I</td>\n",
              "      <td>50787040</td>\n",
              "      <td>Vissarion of Bulgaria</td>\n",
              "    </tr>\n",
              "    <tr>\n",
              "      <th>163380004</th>\n",
              "      <td>56722248</td>\n",
              "      <td>Friction stir spot welding</td>\n",
              "      <td>56705430</td>\n",
              "      <td>Cuvillier Verlag</td>\n",
              "    </tr>\n",
              "    <tr>\n",
              "      <th>163380005</th>\n",
              "      <td>56722248</td>\n",
              "      <td>Friction stir spot welding</td>\n",
              "      <td>30809609</td>\n",
              "      <td>International Institute of Welding</td>\n",
              "    </tr>\n",
              "    <tr>\n",
              "      <th>163380006</th>\n",
              "      <td>56722248</td>\n",
              "      <td>Friction stir spot welding</td>\n",
              "      <td>30279981</td>\n",
              "      <td>Schmieden</td>\n",
              "    </tr>\n",
              "  </tbody>\n",
              "</table>\n",
              "<p>163380007 rows × 4 columns</p>\n",
              "</div>\n",
              "    <div class=\"colab-df-buttons\">\n",
              "\n",
              "  <div class=\"colab-df-container\">\n",
              "    <button class=\"colab-df-convert\" onclick=\"convertToInteractive('df-d54b8698-651c-4635-bf27-d692a083a33c')\"\n",
              "            title=\"Convert this dataframe to an interactive table.\"\n",
              "            style=\"display:none;\">\n",
              "\n",
              "  <svg xmlns=\"http://www.w3.org/2000/svg\" height=\"24px\" viewBox=\"0 -960 960 960\">\n",
              "    <path d=\"M120-120v-720h720v720H120Zm60-500h600v-160H180v160Zm220 220h160v-160H400v160Zm0 220h160v-160H400v160ZM180-400h160v-160H180v160Zm440 0h160v-160H620v160ZM180-180h160v-160H180v160Zm440 0h160v-160H620v160Z\"/>\n",
              "  </svg>\n",
              "    </button>\n",
              "\n",
              "  <style>\n",
              "    .colab-df-container {\n",
              "      display:flex;\n",
              "      gap: 12px;\n",
              "    }\n",
              "\n",
              "    .colab-df-convert {\n",
              "      background-color: #E8F0FE;\n",
              "      border: none;\n",
              "      border-radius: 50%;\n",
              "      cursor: pointer;\n",
              "      display: none;\n",
              "      fill: #1967D2;\n",
              "      height: 32px;\n",
              "      padding: 0 0 0 0;\n",
              "      width: 32px;\n",
              "    }\n",
              "\n",
              "    .colab-df-convert:hover {\n",
              "      background-color: #E2EBFA;\n",
              "      box-shadow: 0px 1px 2px rgba(60, 64, 67, 0.3), 0px 1px 3px 1px rgba(60, 64, 67, 0.15);\n",
              "      fill: #174EA6;\n",
              "    }\n",
              "\n",
              "    .colab-df-buttons div {\n",
              "      margin-bottom: 4px;\n",
              "    }\n",
              "\n",
              "    [theme=dark] .colab-df-convert {\n",
              "      background-color: #3B4455;\n",
              "      fill: #D2E3FC;\n",
              "    }\n",
              "\n",
              "    [theme=dark] .colab-df-convert:hover {\n",
              "      background-color: #434B5C;\n",
              "      box-shadow: 0px 1px 3px 1px rgba(0, 0, 0, 0.15);\n",
              "      filter: drop-shadow(0px 1px 2px rgba(0, 0, 0, 0.3));\n",
              "      fill: #FFFFFF;\n",
              "    }\n",
              "  </style>\n",
              "\n",
              "    <script>\n",
              "      const buttonEl =\n",
              "        document.querySelector('#df-d54b8698-651c-4635-bf27-d692a083a33c button.colab-df-convert');\n",
              "      buttonEl.style.display =\n",
              "        google.colab.kernel.accessAllowed ? 'block' : 'none';\n",
              "\n",
              "      async function convertToInteractive(key) {\n",
              "        const element = document.querySelector('#df-d54b8698-651c-4635-bf27-d692a083a33c');\n",
              "        const dataTable =\n",
              "          await google.colab.kernel.invokeFunction('convertToInteractive',\n",
              "                                                    [key], {});\n",
              "        if (!dataTable) return;\n",
              "\n",
              "        const docLinkHtml = 'Like what you see? Visit the ' +\n",
              "          '<a target=\"_blank\" href=https://colab.research.google.com/notebooks/data_table.ipynb>data table notebook</a>'\n",
              "          + ' to learn more about interactive tables.';\n",
              "        element.innerHTML = '';\n",
              "        dataTable['output_type'] = 'display_data';\n",
              "        await google.colab.output.renderOutput(dataTable, element);\n",
              "        const docLink = document.createElement('div');\n",
              "        docLink.innerHTML = docLinkHtml;\n",
              "        element.appendChild(docLink);\n",
              "      }\n",
              "    </script>\n",
              "  </div>\n",
              "\n",
              "\n",
              "<div id=\"df-1653c02e-9af8-4839-a30e-6227d5526d6c\">\n",
              "  <button class=\"colab-df-quickchart\" onclick=\"quickchart('df-1653c02e-9af8-4839-a30e-6227d5526d6c')\"\n",
              "            title=\"Suggest charts\"\n",
              "            style=\"display:none;\">\n",
              "\n",
              "<svg xmlns=\"http://www.w3.org/2000/svg\" height=\"24px\"viewBox=\"0 0 24 24\"\n",
              "     width=\"24px\">\n",
              "    <g>\n",
              "        <path d=\"M19 3H5c-1.1 0-2 .9-2 2v14c0 1.1.9 2 2 2h14c1.1 0 2-.9 2-2V5c0-1.1-.9-2-2-2zM9 17H7v-7h2v7zm4 0h-2V7h2v10zm4 0h-2v-4h2v4z\"/>\n",
              "    </g>\n",
              "</svg>\n",
              "  </button>\n",
              "\n",
              "<style>\n",
              "  .colab-df-quickchart {\n",
              "      --bg-color: #E8F0FE;\n",
              "      --fill-color: #1967D2;\n",
              "      --hover-bg-color: #E2EBFA;\n",
              "      --hover-fill-color: #174EA6;\n",
              "      --disabled-fill-color: #AAA;\n",
              "      --disabled-bg-color: #DDD;\n",
              "  }\n",
              "\n",
              "  [theme=dark] .colab-df-quickchart {\n",
              "      --bg-color: #3B4455;\n",
              "      --fill-color: #D2E3FC;\n",
              "      --hover-bg-color: #434B5C;\n",
              "      --hover-fill-color: #FFFFFF;\n",
              "      --disabled-bg-color: #3B4455;\n",
              "      --disabled-fill-color: #666;\n",
              "  }\n",
              "\n",
              "  .colab-df-quickchart {\n",
              "    background-color: var(--bg-color);\n",
              "    border: none;\n",
              "    border-radius: 50%;\n",
              "    cursor: pointer;\n",
              "    display: none;\n",
              "    fill: var(--fill-color);\n",
              "    height: 32px;\n",
              "    padding: 0;\n",
              "    width: 32px;\n",
              "  }\n",
              "\n",
              "  .colab-df-quickchart:hover {\n",
              "    background-color: var(--hover-bg-color);\n",
              "    box-shadow: 0 1px 2px rgba(60, 64, 67, 0.3), 0 1px 3px 1px rgba(60, 64, 67, 0.15);\n",
              "    fill: var(--button-hover-fill-color);\n",
              "  }\n",
              "\n",
              "  .colab-df-quickchart-complete:disabled,\n",
              "  .colab-df-quickchart-complete:disabled:hover {\n",
              "    background-color: var(--disabled-bg-color);\n",
              "    fill: var(--disabled-fill-color);\n",
              "    box-shadow: none;\n",
              "  }\n",
              "\n",
              "  .colab-df-spinner {\n",
              "    border: 2px solid var(--fill-color);\n",
              "    border-color: transparent;\n",
              "    border-bottom-color: var(--fill-color);\n",
              "    animation:\n",
              "      spin 1s steps(1) infinite;\n",
              "  }\n",
              "\n",
              "  @keyframes spin {\n",
              "    0% {\n",
              "      border-color: transparent;\n",
              "      border-bottom-color: var(--fill-color);\n",
              "      border-left-color: var(--fill-color);\n",
              "    }\n",
              "    20% {\n",
              "      border-color: transparent;\n",
              "      border-left-color: var(--fill-color);\n",
              "      border-top-color: var(--fill-color);\n",
              "    }\n",
              "    30% {\n",
              "      border-color: transparent;\n",
              "      border-left-color: var(--fill-color);\n",
              "      border-top-color: var(--fill-color);\n",
              "      border-right-color: var(--fill-color);\n",
              "    }\n",
              "    40% {\n",
              "      border-color: transparent;\n",
              "      border-right-color: var(--fill-color);\n",
              "      border-top-color: var(--fill-color);\n",
              "    }\n",
              "    60% {\n",
              "      border-color: transparent;\n",
              "      border-right-color: var(--fill-color);\n",
              "    }\n",
              "    80% {\n",
              "      border-color: transparent;\n",
              "      border-right-color: var(--fill-color);\n",
              "      border-bottom-color: var(--fill-color);\n",
              "    }\n",
              "    90% {\n",
              "      border-color: transparent;\n",
              "      border-bottom-color: var(--fill-color);\n",
              "    }\n",
              "  }\n",
              "</style>\n",
              "\n",
              "  <script>\n",
              "    async function quickchart(key) {\n",
              "      const quickchartButtonEl =\n",
              "        document.querySelector('#' + key + ' button');\n",
              "      quickchartButtonEl.disabled = true;  // To prevent multiple clicks.\n",
              "      quickchartButtonEl.classList.add('colab-df-spinner');\n",
              "      try {\n",
              "        const charts = await google.colab.kernel.invokeFunction(\n",
              "            'suggestCharts', [key], {});\n",
              "      } catch (error) {\n",
              "        console.error('Error during call to suggestCharts:', error);\n",
              "      }\n",
              "      quickchartButtonEl.classList.remove('colab-df-spinner');\n",
              "      quickchartButtonEl.classList.add('colab-df-quickchart-complete');\n",
              "    }\n",
              "    (() => {\n",
              "      let quickchartButtonEl =\n",
              "        document.querySelector('#df-1653c02e-9af8-4839-a30e-6227d5526d6c button');\n",
              "      quickchartButtonEl.style.display =\n",
              "        google.colab.kernel.accessAllowed ? 'block' : 'none';\n",
              "    })();\n",
              "  </script>\n",
              "</div>\n",
              "    </div>\n",
              "  </div>\n"
            ],
            "application/vnd.google.colaboratory.intrinsic+json": {
              "type": "dataframe",
              "variable_name": "df"
            }
          },
          "metadata": {},
          "execution_count": 6
        }
      ]
    },
    {
      "cell_type": "code",
      "source": [
        "for lang in languages:\n",
        "  df = None\n",
        "  G = None\n",
        "  edgelist = None\n",
        "  df = pd.read_csv(os.path.join(dataset_path, lang + suffix[:-3]), sep='\\t')\n",
        "\n",
        "  c0 = set(pd.unique(df.iloc[:,0]))\n",
        "  c2 = set(pd.unique(df.iloc[:,2]))\n",
        "  num_unique = len(c0.union(c2))\n",
        "  print(f'{lang} Number of articles:', num_unique)\n",
        "  print(f'{lang} Fraction of total entries: {num_unique/len(df)*100:0.2f}%')\n",
        "  # Create the graph\n",
        "  edgelist = df.drop(['page_title_from', 'page_title_to'], axis=1)\n",
        "  df = None\n",
        "  G = nx.from_pandas_edgelist(edgelist, source='page_id_from', target='page_id_to', create_using=nx.DiGraph())\n",
        "\n",
        "  edgelist = None\n",
        "\n",
        "  # Calculate the degree of each node\n",
        "  degrees = dict(G.degree())\n",
        "  # Calculate the average degree\n",
        "  average_degree = sum(degrees.values()) / len(degrees)\n",
        "  print(f'{lang} Average Degree:', average_degree)\n",
        "\n",
        "  # Graph density\n",
        "  density = nx.density(G)\n",
        "  print(f'{lang} Density:', density)"
      ],
      "metadata": {
        "colab": {
          "base_uri": "https://localhost:8080/"
        },
        "id": "xZQmcHY21yVU",
        "outputId": "b325cb64-bcdd-4f9d-885c-568c8f0ee52a"
      },
      "execution_count": 40,
      "outputs": [
        {
          "output_type": "stream",
          "name": "stdout",
          "text": [
            "pl Number of articles: 1684606\n",
            "pl Fraction of total entries: 6.50%\n",
            "ru Number of articles: 3360531\n",
            "ru Fraction of total entries: 8.99%\n",
            "nl Number of articles: 2626527\n",
            "nl Fraction of total entries: 10.17%\n",
            "sv Number of articles: 6131736\n",
            "sv Fraction of total entries: 11.70%\n"
          ]
        }
      ]
    },
    {
      "cell_type": "code",
      "source": [
        "df = pd.read_csv(os.path.join(dataset_path, 'sv' + suffix[:-3]), sep='\\t')\n",
        "c0 = set(pd.unique(df.iloc[:,0]))\n",
        "c2 = set(pd.unique(df.iloc[:,2]))\n",
        "num_unique = len(c0.union(c2))\n",
        "print(len(c0),len(c2),len(c0)+len(c2),num_unique)"
      ],
      "metadata": {
        "colab": {
          "base_uri": "https://localhost:8080/"
        },
        "id": "F4IqXN26tq6G",
        "outputId": "10dd0934-0b5c-47bf-8598-06a9fccee913"
      },
      "execution_count": 37,
      "outputs": [
        {
          "output_type": "stream",
          "name": "stdout",
          "text": [
            "531677 404682 936359 542900\n"
          ]
        }
      ]
    },
    {
      "cell_type": "markdown",
      "source": [
        "# Matching Articles by ID"
      ],
      "metadata": {
        "id": "rxOMEHG94w2J"
      }
    },
    {
      "cell_type": "code",
      "source": [
        "%pip install datasets pywikibot qwikidata wikidataintegrator pandas numpy matplotlib seaborn requests qwikidata\n",
        "%pip install tqdmL"
      ],
      "metadata": {
        "id": "q2nDjSTOxLcP"
      },
      "execution_count": null,
      "outputs": []
    },
    {
      "cell_type": "code",
      "source": [
        "class ArticleInfo:\n",
        "  def __init__(self, name, categories=[], subclass_of=[], part_of=[], has_part=[]):\n",
        "    self.name = name\n",
        "    self.categories = categories  # Adjusted for direct list storage\n",
        "    self.subclass_of = subclass_of\n",
        "    self.part_of = part_of\n",
        "    self.has_part = has_part"
      ],
      "metadata": {
        "id": "1-gEWQYD2TnU"
      },
      "execution_count": 12,
      "outputs": []
    },
    {
      "cell_type": "code",
      "source": [
        "def get_label_for_qid(qid, lang: str):\n",
        "    item = wdi_core.WDItemEngine(wd_item_id=qid)\n",
        "    return item.get_label(lang)\n",
        "\n",
        "def fetch_article_info(wikidata_id):\n",
        "    item = wdi_core.WDItemEngine(wd_item_id=wikidata_id)\n",
        "    item_data = item.get_wd_json_representation()\n",
        "\n",
        "    name = item.get_label('en')\n",
        "\n",
        "    category_ids = [claim['mainsnak']['datavalue']['value']['id']\n",
        "                      for claim in item_data.get('claims', {}).get('P31', [])]\n",
        "    category_names = [get_label_for_qid(qid) for qid in category_ids]\n",
        "\n",
        "    subclass_of_ids = [claim['mainsnak']['datavalue']['value']['id']\n",
        "                       for claim in item_data.get('claims', {}).get('P279', [])]\n",
        "    subclass_of_names = [get_label_for_qid(qid) for qid in subclass_of_ids]\n",
        "\n",
        "    part_of_ids = [claim['mainsnak']['datavalue']['value']['id']\n",
        "                   for claim in item_data.get('claims', {}).get('P361', [])]\n",
        "    part_of_name = [get_label_for_qid(qid) for qid in part_of_ids]\n",
        "\n",
        "    has_part_ids = [claim['mainsnak']['datavalue']['value']['id']\n",
        "                    for claim in item_data.get('claims', {}).get('P527', [])]\n",
        "    has_part_names = [get_label_for_qid(qid) for qid in has_part_ids]\n",
        "\n",
        "    return ArticleInfo(name, category_names, subclass_of_names, part_of_name, has_part_names)"
      ],
      "metadata": {
        "id": "9kuhBoFD2Oii"
      },
      "execution_count": 19,
      "outputs": []
    },
    {
      "cell_type": "code",
      "source": [
        "from wikidataintegrator import wdi_core\n",
        "\n",
        "item = wdi_core.WDItemEngine(wd_item_id='Q38533')\n",
        "item_data = item.get_wd_json_representation()"
      ],
      "metadata": {
        "id": "yj4JxbLT1YQq"
      },
      "execution_count": 14,
      "outputs": []
    },
    {
      "cell_type": "code",
      "source": [
        "wikidata_id = \"Q56716274\"\n",
        "article_info = fetch_article_info(wikidata_id)\n",
        "\n",
        "print(f\"name: {article_info.name}\")\n",
        "print(f\"instance of: {article_info.categories}\")\n",
        "print(f\"subclass of: {article_info.subclass_of}\")\n",
        "print(f\"part of: {article_info.part_of}\")\n",
        "print(f\"has part: {article_info.has_part}\")"
      ],
      "metadata": {
        "colab": {
          "base_uri": "https://localhost:8080/"
        },
        "id": "OE5NXAJ32KAP",
        "outputId": "f7c4c99d-1d38-40ac-d81a-edd47f10d666"
      },
      "execution_count": 17,
      "outputs": [
        {
          "output_type": "stream",
          "name": "stdout",
          "text": [
            "name: \n",
            "instance of: ['photograph']\n",
            "subclass of: []\n",
            "part of: []\n",
            "has part: []\n"
          ]
        }
      ]
    },
    {
      "cell_type": "code",
      "source": [
        "get_label_for_qid(\"Q11111\", 'ch')"
      ],
      "metadata": {
        "colab": {
          "base_uri": "https://localhost:8080/",
          "height": 35
        },
        "id": "BITk5eIh2ZQf",
        "outputId": "f5e13043-e6b0-4b68-d216-74510c58db37"
      },
      "execution_count": 23,
      "outputs": [
        {
          "output_type": "execute_result",
          "data": {
            "text/plain": [
              "''"
            ],
            "application/vnd.google.colaboratory.intrinsic+json": {
              "type": "string"
            }
          },
          "metadata": {},
          "execution_count": 23
        }
      ]
    },
    {
      "cell_type": "code",
      "source": [
        "import requests\n",
        "\n",
        "def get_article_id(article_name, language_code):\n",
        "    # Construct the Wikidata API URL\n",
        "    url = f\"https://{language_code}.wikipedia.org/w/api.php\"\n",
        "\n",
        "    # Set parameters for the API request\n",
        "    params = {\n",
        "        \"action\": \"wbgetentities\",\n",
        "        \"sites\": f\"{language_code}wiki\",\n",
        "        \"titles\": article_name,\n",
        "        \"format\": \"json\"\n",
        "    }\n",
        "\n",
        "    # Send GET request to the API\n",
        "    response = requests.get(url, params=params)\n",
        "\n",
        "    # Parse JSON response\n",
        "    data = response.json()\n",
        "\n",
        "    # Extract article ID (QID) from the response\n",
        "    entities = data.get(\"entities\")\n",
        "    if entities:\n",
        "        article_id = next(iter(entities))\n",
        "        return article_id\n",
        "\n",
        "    # Return None if article ID is not found\n",
        "    return None\n",
        "\n",
        "# Example usage\n",
        "article_name = \"Albert Einstein\"\n",
        "language_code = \"en\"  # English Wikipedia\n",
        "article_id = get_article_id(article_name, language_code)\n",
        "if article_id:\n",
        "    print(f\"Article ID for '{article_name}' in {language_code} Wikipedia: {article_id}\")\n",
        "else:\n",
        "    print(f\"Article '{article_name}' not found in {language_code} Wikipedia.\")"
      ],
      "metadata": {
        "id": "cV4Vrckh72py"
      },
      "execution_count": null,
      "outputs": []
    },
    {
      "cell_type": "markdown",
      "source": [
        "# Getting average article length"
      ],
      "metadata": {
        "id": "pxZQAZeK5FFn"
      }
    },
    {
      "cell_type": "code",
      "source": [
        "!pip install -q tensorflow-datasets"
      ],
      "metadata": {
        "id": "VialyOYZ5IIW"
      },
      "execution_count": null,
      "outputs": []
    },
    {
      "cell_type": "code",
      "source": [
        "import os\n",
        "\n",
        "# path = '/content/drive/My Drive/shared folder/IR Proposal/wiki40b_multi_languages'\n",
        "path = '/content/drive/My Drive/IR Proposal/wiki40b_multi_languages'\n",
        "if not os.path.exists(path):\n",
        "    os.makedirs(path)"
      ],
      "metadata": {
        "id": "kbCeArjW5JgX"
      },
      "execution_count": null,
      "outputs": []
    },
    {
      "cell_type": "code",
      "source": [
        "import tensorflow_datasets as tfds\n",
        "import os\n",
        "\n",
        "languages = ['en', 'de', 'ru', 'fr', 'es', 'it', 'pt', 'nl', 'hu', 'sv', 'fi', 'no', 'ro', 'tr', 'da']\n",
        "\n",
        "# First download data to drive\n",
        "# for lang in languages:\n",
        "    # ds, _ = tfds.load(f'wiki40b/{lang}', split='train', with_info=True, download=True, data_dir=path)\n",
        "# Subsequently just load data from drive instead of downloading\n",
        "# ds_en, info = tfds.load(f'wiki40b/en', split='train', with_info=True, download=False, data_dir=path)\n",
        "for lang in languages:\n",
        "  ds, info = tfds.load(f'wiki40b/{lang}', split='train', with_info=True, download=False, data_dir=path)\n",
        "  print('LANGUAGE:', lang)\n",
        "  print('NUMBER OF ARTICLES:', len(ds))\n",
        "  article_avg_len = sum(len(article[\"text\"].numpy()) for article in ds) / len(ds)\n",
        "  print(f\"avg len of article => en: {article_avg_len}\")"
      ],
      "metadata": {
        "id": "iO7xArc45NFW"
      },
      "execution_count": null,
      "outputs": []
    }
  ]
}